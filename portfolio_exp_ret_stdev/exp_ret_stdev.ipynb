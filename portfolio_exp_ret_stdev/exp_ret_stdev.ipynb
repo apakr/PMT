{
 "cells": [
  {
   "cell_type": "code",
   "execution_count": 1,
   "metadata": {},
   "outputs": [],
   "source": [
    "import pandas as pd\n",
    "import numpy as np\n",
    "import yfinance as yf\n",
    "import datetime"
   ]
  },
  {
   "cell_type": "code",
   "execution_count": 2,
   "metadata": {},
   "outputs": [],
   "source": [
    "# Add in stocks from the selected Portfolio\n",
    "# stocks = ['^SPX','AMP','SCHW','BRK-B','AAPL','STLA','YUM','ADM','AMR','PWR','XOM','CE','ELV','DGX','REGN','MRK','AMAT','GOOG','JBL','ADI']\n",
    "stocks = ['^SPX', 'INTC','AMD','NVDA']"
   ]
  },
  {
   "cell_type": "code",
   "execution_count": 3,
   "metadata": {},
   "outputs": [],
   "source": [
    "# Define the time period\n",
    "end_date = datetime.datetime.now()\n",
    "start_date = end_date - datetime.timedelta(days=5*365)"
   ]
  },
  {
   "cell_type": "code",
   "execution_count": 4,
   "metadata": {},
   "outputs": [],
   "source": [
    "# Initialize a dictionary to hold ticker data\n",
    "stock_data = {}\n",
    "\n",
    "# Fetch the monthly closing prices for each stock\n",
    "for ticker in stocks:\n",
    "    stock = yf.Ticker(ticker)\n",
    "    df = stock.history(start=start_date, end=end_date, interval=\"1mo\")\n",
    "    stock_data[ticker] = df['Close']\n",
    "\n",
    "# Combine the data into a single DataFrame\n",
    "combined_data = pd.DataFrame(stock_data)\n",
    "\n",
    "# Clean up the DataFrame by dropping rows with NaN values that can occur at the end\n",
    "# combined_data.dropna(how='all', inplace=True)"
   ]
  },
  {
   "cell_type": "code",
   "execution_count": 5,
   "metadata": {},
   "outputs": [
    {
     "data": {
      "text/html": [
       "<div>\n",
       "<style scoped>\n",
       "    .dataframe tbody tr th:only-of-type {\n",
       "        vertical-align: middle;\n",
       "    }\n",
       "\n",
       "    .dataframe tbody tr th {\n",
       "        vertical-align: top;\n",
       "    }\n",
       "\n",
       "    .dataframe thead th {\n",
       "        text-align: right;\n",
       "    }\n",
       "</style>\n",
       "<table border=\"1\" class=\"dataframe\">\n",
       "  <thead>\n",
       "    <tr style=\"text-align: right;\">\n",
       "      <th></th>\n",
       "      <th>^SPX</th>\n",
       "      <th>INTC</th>\n",
       "      <th>AMD</th>\n",
       "      <th>NVDA</th>\n",
       "    </tr>\n",
       "    <tr>\n",
       "      <th>Date</th>\n",
       "      <th></th>\n",
       "      <th></th>\n",
       "      <th></th>\n",
       "      <th></th>\n",
       "    </tr>\n",
       "  </thead>\n",
       "  <tbody>\n",
       "    <tr>\n",
       "      <th>2019-06-01 00:00:00-04:00</th>\n",
       "      <td>2941.760010</td>\n",
       "      <td>41.977592</td>\n",
       "      <td>30.370001</td>\n",
       "      <td>40.825207</td>\n",
       "    </tr>\n",
       "    <tr>\n",
       "      <th>2019-07-01 00:00:00-04:00</th>\n",
       "      <td>2980.379883</td>\n",
       "      <td>44.327705</td>\n",
       "      <td>30.450001</td>\n",
       "      <td>41.941357</td>\n",
       "    </tr>\n",
       "    <tr>\n",
       "      <th>2019-08-01 00:00:00-04:00</th>\n",
       "      <td>2926.459961</td>\n",
       "      <td>41.574215</td>\n",
       "      <td>31.450001</td>\n",
       "      <td>41.640568</td>\n",
       "    </tr>\n",
       "    <tr>\n",
       "      <th>2019-09-01 00:00:00-04:00</th>\n",
       "      <td>2976.739990</td>\n",
       "      <td>45.492168</td>\n",
       "      <td>28.990000</td>\n",
       "      <td>43.314133</td>\n",
       "    </tr>\n",
       "    <tr>\n",
       "      <th>2019-10-01 00:00:00-04:00</th>\n",
       "      <td>3037.560059</td>\n",
       "      <td>49.906303</td>\n",
       "      <td>33.930000</td>\n",
       "      <td>50.020123</td>\n",
       "    </tr>\n",
       "  </tbody>\n",
       "</table>\n",
       "</div>"
      ],
      "text/plain": [
       "                                  ^SPX       INTC        AMD       NVDA\n",
       "Date                                                                   \n",
       "2019-06-01 00:00:00-04:00  2941.760010  41.977592  30.370001  40.825207\n",
       "2019-07-01 00:00:00-04:00  2980.379883  44.327705  30.450001  41.941357\n",
       "2019-08-01 00:00:00-04:00  2926.459961  41.574215  31.450001  41.640568\n",
       "2019-09-01 00:00:00-04:00  2976.739990  45.492168  28.990000  43.314133\n",
       "2019-10-01 00:00:00-04:00  3037.560059  49.906303  33.930000  50.020123"
      ]
     },
     "execution_count": 5,
     "metadata": {},
     "output_type": "execute_result"
    }
   ],
   "source": [
    "combined_data.head()"
   ]
  },
  {
   "cell_type": "code",
   "execution_count": 6,
   "metadata": {},
   "outputs": [
    {
     "data": {
      "text/html": [
       "<div>\n",
       "<style scoped>\n",
       "    .dataframe tbody tr th:only-of-type {\n",
       "        vertical-align: middle;\n",
       "    }\n",
       "\n",
       "    .dataframe tbody tr th {\n",
       "        vertical-align: top;\n",
       "    }\n",
       "\n",
       "    .dataframe thead th {\n",
       "        text-align: right;\n",
       "    }\n",
       "</style>\n",
       "<table border=\"1\" class=\"dataframe\">\n",
       "  <thead>\n",
       "    <tr style=\"text-align: right;\">\n",
       "      <th></th>\n",
       "      <th>^SPX</th>\n",
       "      <th>INTC</th>\n",
       "      <th>AMD</th>\n",
       "      <th>NVDA</th>\n",
       "    </tr>\n",
       "    <tr>\n",
       "      <th>Date</th>\n",
       "      <th></th>\n",
       "      <th></th>\n",
       "      <th></th>\n",
       "      <th></th>\n",
       "    </tr>\n",
       "  </thead>\n",
       "  <tbody>\n",
       "    <tr>\n",
       "      <th>2024-01-01 00:00:00-05:00</th>\n",
       "      <td>0.015896</td>\n",
       "      <td>-0.142686</td>\n",
       "      <td>0.137575</td>\n",
       "      <td>0.242527</td>\n",
       "    </tr>\n",
       "    <tr>\n",
       "      <th>2024-02-01 00:00:00-05:00</th>\n",
       "      <td>0.051721</td>\n",
       "      <td>-0.000697</td>\n",
       "      <td>0.148130</td>\n",
       "      <td>0.285809</td>\n",
       "    </tr>\n",
       "    <tr>\n",
       "      <th>2024-03-01 00:00:00-05:00</th>\n",
       "      <td>0.031019</td>\n",
       "      <td>0.029024</td>\n",
       "      <td>-0.062536</td>\n",
       "      <td>0.142128</td>\n",
       "    </tr>\n",
       "    <tr>\n",
       "      <th>2024-04-01 00:00:00-04:00</th>\n",
       "      <td>-0.041615</td>\n",
       "      <td>-0.310165</td>\n",
       "      <td>-0.122500</td>\n",
       "      <td>-0.043715</td>\n",
       "    </tr>\n",
       "    <tr>\n",
       "      <th>2024-05-01 00:00:00-04:00</th>\n",
       "      <td>0.037133</td>\n",
       "      <td>-0.016369</td>\n",
       "      <td>-0.040788</td>\n",
       "      <td>0.040231</td>\n",
       "    </tr>\n",
       "  </tbody>\n",
       "</table>\n",
       "</div>"
      ],
      "text/plain": [
       "                               ^SPX      INTC       AMD      NVDA\n",
       "Date                                                             \n",
       "2024-01-01 00:00:00-05:00  0.015896 -0.142686  0.137575  0.242527\n",
       "2024-02-01 00:00:00-05:00  0.051721 -0.000697  0.148130  0.285809\n",
       "2024-03-01 00:00:00-05:00  0.031019  0.029024 -0.062536  0.142128\n",
       "2024-04-01 00:00:00-04:00 -0.041615 -0.310165 -0.122500 -0.043715\n",
       "2024-05-01 00:00:00-04:00  0.037133 -0.016369 -0.040788  0.040231"
      ]
     },
     "execution_count": 6,
     "metadata": {},
     "output_type": "execute_result"
    }
   ],
   "source": [
    "# Calculate excess the month to month excess returns for each stock and store it in a new dataframe\n",
    "excess_ret = combined_data.pct_change()\n",
    "excess_ret.tail()"
   ]
  },
  {
   "cell_type": "code",
   "execution_count": 31,
   "metadata": {},
   "outputs": [
    {
     "data": {
      "text/plain": [
       "3"
      ]
     },
     "execution_count": 31,
     "metadata": {},
     "output_type": "execute_result"
    }
   ],
   "source": [
    "stocks.__len__()"
   ]
  },
  {
   "cell_type": "code",
   "execution_count": 10,
   "metadata": {},
   "outputs": [
    {
     "ename": "SyntaxError",
     "evalue": "invalid syntax (742023493.py, line 4)",
     "output_type": "error",
     "traceback": [
      "\u001b[1;36m  Cell \u001b[1;32mIn[10], line 4\u001b[1;36m\u001b[0m\n\u001b[1;33m    excess_ret.loc[givenRow, \"Portfolio\"] =\u001b[0m\n\u001b[1;37m                                            ^\u001b[0m\n\u001b[1;31mSyntaxError\u001b[0m\u001b[1;31m:\u001b[0m invalid syntax\n"
     ]
    }
   ],
   "source": [
    "# Add a row for total portfolio\n",
    "for givenRow in excess_ret:\n",
    "    \n",
    "    excess_ret.loc[givenRow, \"Portfolio\"] = "
   ]
  },
  {
   "cell_type": "code",
   "execution_count": 19,
   "metadata": {},
   "outputs": [
    {
     "ename": "KeyError",
     "evalue": "'AMR'",
     "output_type": "error",
     "traceback": [
      "\u001b[1;31m---------------------------------------------------------------------------\u001b[0m",
      "\u001b[1;31mKeyError\u001b[0m                                  Traceback (most recent call last)",
      "File \u001b[1;32m~\\AppData\\Local\\Packages\\PythonSoftwareFoundation.Python.3.10_qbz5n2kfra8p0\\LocalCache\\local-packages\\Python310\\site-packages\\pandas\\core\\indexes\\base.py:3802\u001b[0m, in \u001b[0;36mIndex.get_loc\u001b[1;34m(self, key, method, tolerance)\u001b[0m\n\u001b[0;32m   3801\u001b[0m \u001b[38;5;28;01mtry\u001b[39;00m:\n\u001b[1;32m-> 3802\u001b[0m     \u001b[38;5;28;01mreturn\u001b[39;00m \u001b[38;5;28;43mself\u001b[39;49m\u001b[38;5;241;43m.\u001b[39;49m\u001b[43m_engine\u001b[49m\u001b[38;5;241;43m.\u001b[39;49m\u001b[43mget_loc\u001b[49m\u001b[43m(\u001b[49m\u001b[43mcasted_key\u001b[49m\u001b[43m)\u001b[49m\n\u001b[0;32m   3803\u001b[0m \u001b[38;5;28;01mexcept\u001b[39;00m \u001b[38;5;167;01mKeyError\u001b[39;00m \u001b[38;5;28;01mas\u001b[39;00m err:\n",
      "File \u001b[1;32m~\\AppData\\Local\\Packages\\PythonSoftwareFoundation.Python.3.10_qbz5n2kfra8p0\\LocalCache\\local-packages\\Python310\\site-packages\\pandas\\_libs\\index.pyx:138\u001b[0m, in \u001b[0;36mpandas._libs.index.IndexEngine.get_loc\u001b[1;34m()\u001b[0m\n",
      "File \u001b[1;32m~\\AppData\\Local\\Packages\\PythonSoftwareFoundation.Python.3.10_qbz5n2kfra8p0\\LocalCache\\local-packages\\Python310\\site-packages\\pandas\\_libs\\index.pyx:165\u001b[0m, in \u001b[0;36mpandas._libs.index.IndexEngine.get_loc\u001b[1;34m()\u001b[0m\n",
      "File \u001b[1;32mpandas\\_libs\\hashtable_class_helper.pxi:5745\u001b[0m, in \u001b[0;36mpandas._libs.hashtable.PyObjectHashTable.get_item\u001b[1;34m()\u001b[0m\n",
      "File \u001b[1;32mpandas\\_libs\\hashtable_class_helper.pxi:5753\u001b[0m, in \u001b[0;36mpandas._libs.hashtable.PyObjectHashTable.get_item\u001b[1;34m()\u001b[0m\n",
      "\u001b[1;31mKeyError\u001b[0m: 'AMR'",
      "\nThe above exception was the direct cause of the following exception:\n",
      "\u001b[1;31mKeyError\u001b[0m                                  Traceback (most recent call last)",
      "Cell \u001b[1;32mIn[19], line 2\u001b[0m\n\u001b[0;32m      1\u001b[0m \u001b[38;5;66;03m# Optional // If a stock has NaN values find out where they begin\u001b[39;00m\n\u001b[1;32m----> 2\u001b[0m fst \u001b[38;5;241m=\u001b[39m \u001b[43mcombined_data\u001b[49m\u001b[43m[\u001b[49m\u001b[38;5;124;43m'\u001b[39;49m\u001b[38;5;124;43mAMR\u001b[39;49m\u001b[38;5;124;43m'\u001b[39;49m\u001b[43m]\u001b[49m\u001b[38;5;241m.\u001b[39mfirst_valid_index()\n\u001b[0;32m      3\u001b[0m ind \u001b[38;5;241m=\u001b[39m combined_data\u001b[38;5;241m.\u001b[39mindex\u001b[38;5;241m.\u001b[39mget_loc(fst)\n\u001b[0;32m      4\u001b[0m combined_data\u001b[38;5;241m.\u001b[39miloc[(ind\u001b[38;5;241m-\u001b[39m\u001b[38;5;241m3\u001b[39m):(ind\u001b[38;5;241m+\u001b[39m\u001b[38;5;241m3\u001b[39m)]\n",
      "File \u001b[1;32m~\\AppData\\Local\\Packages\\PythonSoftwareFoundation.Python.3.10_qbz5n2kfra8p0\\LocalCache\\local-packages\\Python310\\site-packages\\pandas\\core\\frame.py:3807\u001b[0m, in \u001b[0;36mDataFrame.__getitem__\u001b[1;34m(self, key)\u001b[0m\n\u001b[0;32m   3805\u001b[0m \u001b[38;5;28;01mif\u001b[39;00m \u001b[38;5;28mself\u001b[39m\u001b[38;5;241m.\u001b[39mcolumns\u001b[38;5;241m.\u001b[39mnlevels \u001b[38;5;241m>\u001b[39m \u001b[38;5;241m1\u001b[39m:\n\u001b[0;32m   3806\u001b[0m     \u001b[38;5;28;01mreturn\u001b[39;00m \u001b[38;5;28mself\u001b[39m\u001b[38;5;241m.\u001b[39m_getitem_multilevel(key)\n\u001b[1;32m-> 3807\u001b[0m indexer \u001b[38;5;241m=\u001b[39m \u001b[38;5;28;43mself\u001b[39;49m\u001b[38;5;241;43m.\u001b[39;49m\u001b[43mcolumns\u001b[49m\u001b[38;5;241;43m.\u001b[39;49m\u001b[43mget_loc\u001b[49m\u001b[43m(\u001b[49m\u001b[43mkey\u001b[49m\u001b[43m)\u001b[49m\n\u001b[0;32m   3808\u001b[0m \u001b[38;5;28;01mif\u001b[39;00m is_integer(indexer):\n\u001b[0;32m   3809\u001b[0m     indexer \u001b[38;5;241m=\u001b[39m [indexer]\n",
      "File \u001b[1;32m~\\AppData\\Local\\Packages\\PythonSoftwareFoundation.Python.3.10_qbz5n2kfra8p0\\LocalCache\\local-packages\\Python310\\site-packages\\pandas\\core\\indexes\\base.py:3804\u001b[0m, in \u001b[0;36mIndex.get_loc\u001b[1;34m(self, key, method, tolerance)\u001b[0m\n\u001b[0;32m   3802\u001b[0m     \u001b[38;5;28;01mreturn\u001b[39;00m \u001b[38;5;28mself\u001b[39m\u001b[38;5;241m.\u001b[39m_engine\u001b[38;5;241m.\u001b[39mget_loc(casted_key)\n\u001b[0;32m   3803\u001b[0m \u001b[38;5;28;01mexcept\u001b[39;00m \u001b[38;5;167;01mKeyError\u001b[39;00m \u001b[38;5;28;01mas\u001b[39;00m err:\n\u001b[1;32m-> 3804\u001b[0m     \u001b[38;5;28;01mraise\u001b[39;00m \u001b[38;5;167;01mKeyError\u001b[39;00m(key) \u001b[38;5;28;01mfrom\u001b[39;00m \u001b[38;5;21;01merr\u001b[39;00m\n\u001b[0;32m   3805\u001b[0m \u001b[38;5;28;01mexcept\u001b[39;00m \u001b[38;5;167;01mTypeError\u001b[39;00m:\n\u001b[0;32m   3806\u001b[0m     \u001b[38;5;66;03m# If we have a listlike key, _check_indexing_error will raise\u001b[39;00m\n\u001b[0;32m   3807\u001b[0m     \u001b[38;5;66;03m#  InvalidIndexError. Otherwise we fall through and re-raise\u001b[39;00m\n\u001b[0;32m   3808\u001b[0m     \u001b[38;5;66;03m#  the TypeError.\u001b[39;00m\n\u001b[0;32m   3809\u001b[0m     \u001b[38;5;28mself\u001b[39m\u001b[38;5;241m.\u001b[39m_check_indexing_error(key)\n",
      "\u001b[1;31mKeyError\u001b[0m: 'AMR'"
     ]
    }
   ],
   "source": [
    "# Optional // If a stock has NaN values find out where they begin\n",
    "fst = combined_data['AMR'].first_valid_index()\n",
    "ind = combined_data.index.get_loc(fst)\n",
    "combined_data.iloc[(ind-3):(ind+3)]"
   ]
  },
  {
   "cell_type": "code",
   "execution_count": 7,
   "metadata": {},
   "outputs": [],
   "source": [
    "# Separate the S&P 500 returns and the stocks' returns\n",
    "spx_returns = excess_ret.iloc[:, 0]\n",
    "stocks_returns = excess_ret.iloc[:, 0:]\n",
    "\n",
    "# Create an empty DataFrame to store the analysis results\n",
    "perf_metrics = pd.DataFrame(index=excess_ret.columns)\n",
    "\n",
    "# Calculate each metric\n",
    "perf_metrics['Mean Annualized Return'] = stocks_returns.mean() * 12\n",
    "perf_metrics['Annualized Std Dev'] = stocks_returns.std() * np.sqrt(12)"
   ]
  },
  {
   "cell_type": "code",
   "execution_count": 8,
   "metadata": {},
   "outputs": [
    {
     "data": {
      "text/html": [
       "<div>\n",
       "<style scoped>\n",
       "    .dataframe tbody tr th:only-of-type {\n",
       "        vertical-align: middle;\n",
       "    }\n",
       "\n",
       "    .dataframe tbody tr th {\n",
       "        vertical-align: top;\n",
       "    }\n",
       "\n",
       "    .dataframe thead th {\n",
       "        text-align: right;\n",
       "    }\n",
       "</style>\n",
       "<table border=\"1\" class=\"dataframe\">\n",
       "  <thead>\n",
       "    <tr style=\"text-align: right;\">\n",
       "      <th></th>\n",
       "      <th>Mean Annualized Return</th>\n",
       "      <th>Annualized Std Dev</th>\n",
       "    </tr>\n",
       "  </thead>\n",
       "  <tbody>\n",
       "    <tr>\n",
       "      <th>^SPX</th>\n",
       "      <td>0.133577</td>\n",
       "      <td>0.181429</td>\n",
       "    </tr>\n",
       "    <tr>\n",
       "      <th>INTC</th>\n",
       "      <td>-0.003096</td>\n",
       "      <td>0.361492</td>\n",
       "    </tr>\n",
       "    <tr>\n",
       "      <th>AMD</th>\n",
       "      <td>0.464646</td>\n",
       "      <td>0.533678</td>\n",
       "    </tr>\n",
       "    <tr>\n",
       "      <th>NVDA</th>\n",
       "      <td>0.761696</td>\n",
       "      <td>0.491004</td>\n",
       "    </tr>\n",
       "  </tbody>\n",
       "</table>\n",
       "</div>"
      ],
      "text/plain": [
       "      Mean Annualized Return  Annualized Std Dev\n",
       "^SPX                0.133577            0.181429\n",
       "INTC               -0.003096            0.361492\n",
       "AMD                 0.464646            0.533678\n",
       "NVDA                0.761696            0.491004"
      ]
     },
     "execution_count": 8,
     "metadata": {},
     "output_type": "execute_result"
    }
   ],
   "source": [
    "perf_metrics"
   ]
  },
  {
   "cell_type": "code",
   "execution_count": 9,
   "metadata": {},
   "outputs": [],
   "source": [
    "# Market variance for Beta calculations\n",
    "market_variance = spx_returns.var() * 12\n",
    "\n",
    "# Calculate metrics that require row-wise operations\n",
    "for stock in stocks_returns:\n",
    "    stock_returns = stocks_returns[stock]\n",
    "    cov_with_market = stock_returns.cov(spx_returns) * 12  # Annualize the covariance\n",
    "    beta = cov_with_market / market_variance                                                                   \n",
    "    \n",
    "    perf_metrics.loc[stock, 'SPX Correlation'] = stock_returns.corr(spx_returns)\n",
    "    perf_metrics.loc[stock, 'Beta'] = beta\n",
    "    perf_metrics.loc[stock, 'Total Variance'] = stock_returns.var() * 12  # Annualize the variance         \n",
    "    perf_metrics.loc[stock, 'Systematic Variance'] = beta ** 2 * market_variance                           \n",
    "    perf_metrics.loc[stock, 'Unique Variance'] = perf_metrics.loc[stock, 'Total Variance'] - perf_metrics.loc[stock, 'Systematic Variance']\n",
    "    perf_metrics.loc[stock, 'R-squared'] = perf_metrics.loc[stock, 'SPX Correlation'] ** 2 \n",
    "\n",
    "# perf_metrics.format({})"
   ]
  },
  {
   "cell_type": "code",
   "execution_count": 12,
   "metadata": {},
   "outputs": [
    {
     "data": {
      "text/html": [
       "<div>\n",
       "<style scoped>\n",
       "    .dataframe tbody tr th:only-of-type {\n",
       "        vertical-align: middle;\n",
       "    }\n",
       "\n",
       "    .dataframe tbody tr th {\n",
       "        vertical-align: top;\n",
       "    }\n",
       "\n",
       "    .dataframe thead th {\n",
       "        text-align: right;\n",
       "    }\n",
       "</style>\n",
       "<table border=\"1\" class=\"dataframe\">\n",
       "  <thead>\n",
       "    <tr style=\"text-align: right;\">\n",
       "      <th></th>\n",
       "      <th>Mean Annualized Return</th>\n",
       "      <th>Annualized Std Dev</th>\n",
       "      <th>SPX Correlation</th>\n",
       "      <th>Beta</th>\n",
       "      <th>Total Variance</th>\n",
       "      <th>Systematic Variance</th>\n",
       "      <th>Unique Variance</th>\n",
       "      <th>R-squared</th>\n",
       "    </tr>\n",
       "  </thead>\n",
       "  <tbody>\n",
       "    <tr>\n",
       "      <th>^SPX</th>\n",
       "      <td>0.133577</td>\n",
       "      <td>0.181429</td>\n",
       "      <td>1.000000</td>\n",
       "      <td>1.000000</td>\n",
       "      <td>0.032916</td>\n",
       "      <td>0.032916</td>\n",
       "      <td>1.387779e-17</td>\n",
       "      <td>1.000000</td>\n",
       "    </tr>\n",
       "    <tr>\n",
       "      <th>INTC</th>\n",
       "      <td>-0.003096</td>\n",
       "      <td>0.361492</td>\n",
       "      <td>0.520013</td>\n",
       "      <td>1.036115</td>\n",
       "      <td>0.130677</td>\n",
       "      <td>0.035337</td>\n",
       "      <td>9.533999e-02</td>\n",
       "      <td>0.270414</td>\n",
       "    </tr>\n",
       "    <tr>\n",
       "      <th>AMD</th>\n",
       "      <td>0.464646</td>\n",
       "      <td>0.533678</td>\n",
       "      <td>0.573602</td>\n",
       "      <td>1.687269</td>\n",
       "      <td>0.284812</td>\n",
       "      <td>0.093709</td>\n",
       "      <td>1.911031e-01</td>\n",
       "      <td>0.329020</td>\n",
       "    </tr>\n",
       "    <tr>\n",
       "      <th>NVDA</th>\n",
       "      <td>0.761696</td>\n",
       "      <td>0.491004</td>\n",
       "      <td>0.603187</td>\n",
       "      <td>1.632421</td>\n",
       "      <td>0.241085</td>\n",
       "      <td>0.087715</td>\n",
       "      <td>1.533700e-01</td>\n",
       "      <td>0.363835</td>\n",
       "    </tr>\n",
       "  </tbody>\n",
       "</table>\n",
       "</div>"
      ],
      "text/plain": [
       "      Mean Annualized Return  Annualized Std Dev  SPX Correlation      Beta  \\\n",
       "^SPX                0.133577            0.181429         1.000000  1.000000   \n",
       "INTC               -0.003096            0.361492         0.520013  1.036115   \n",
       "AMD                 0.464646            0.533678         0.573602  1.687269   \n",
       "NVDA                0.761696            0.491004         0.603187  1.632421   \n",
       "\n",
       "      Total Variance  Systematic Variance  Unique Variance  R-squared  \n",
       "^SPX        0.032916             0.032916     1.387779e-17   1.000000  \n",
       "INTC        0.130677             0.035337     9.533999e-02   0.270414  \n",
       "AMD         0.284812             0.093709     1.911031e-01   0.329020  \n",
       "NVDA        0.241085             0.087715     1.533700e-01   0.363835  "
      ]
     },
     "execution_count": 12,
     "metadata": {},
     "output_type": "execute_result"
    }
   ],
   "source": [
    "perf_metrics       # what would you call this set of statistics? performance measures, can add sharpe ratio, sortino ratio, studdtzer index, maximum drawdown, sometimes called risk adjusted performance metrics, like sharpe ratio and  sortino this means they dont change with leverage"
   ]
  },
  {
   "cell_type": "code",
   "execution_count": 13,
   "metadata": {},
   "outputs": [],
   "source": [
    "# Set float format for display\n",
    "pd.options.display.float_format = '{:.6f}'.format"
   ]
  },
  {
   "cell_type": "code",
   "execution_count": 14,
   "metadata": {},
   "outputs": [
    {
     "data": {
      "text/html": [
       "<div>\n",
       "<style scoped>\n",
       "    .dataframe tbody tr th:only-of-type {\n",
       "        vertical-align: middle;\n",
       "    }\n",
       "\n",
       "    .dataframe tbody tr th {\n",
       "        vertical-align: top;\n",
       "    }\n",
       "\n",
       "    .dataframe thead th {\n",
       "        text-align: right;\n",
       "    }\n",
       "</style>\n",
       "<table border=\"1\" class=\"dataframe\">\n",
       "  <thead>\n",
       "    <tr style=\"text-align: right;\">\n",
       "      <th></th>\n",
       "      <th>^SPX</th>\n",
       "      <th>INTC</th>\n",
       "      <th>AMD</th>\n",
       "      <th>NVDA</th>\n",
       "    </tr>\n",
       "  </thead>\n",
       "  <tbody>\n",
       "    <tr>\n",
       "      <th>Mean Annualized Return</th>\n",
       "      <td>0.133577</td>\n",
       "      <td>-0.003096</td>\n",
       "      <td>0.464646</td>\n",
       "      <td>0.761696</td>\n",
       "    </tr>\n",
       "    <tr>\n",
       "      <th>Annualized Std Dev</th>\n",
       "      <td>0.181429</td>\n",
       "      <td>0.361492</td>\n",
       "      <td>0.533678</td>\n",
       "      <td>0.491004</td>\n",
       "    </tr>\n",
       "    <tr>\n",
       "      <th>SPX Correlation</th>\n",
       "      <td>1.000000</td>\n",
       "      <td>0.520013</td>\n",
       "      <td>0.573602</td>\n",
       "      <td>0.603187</td>\n",
       "    </tr>\n",
       "    <tr>\n",
       "      <th>Beta</th>\n",
       "      <td>1.000000</td>\n",
       "      <td>1.036115</td>\n",
       "      <td>1.687269</td>\n",
       "      <td>1.632421</td>\n",
       "    </tr>\n",
       "    <tr>\n",
       "      <th>Total Variance</th>\n",
       "      <td>0.032916</td>\n",
       "      <td>0.130677</td>\n",
       "      <td>0.284812</td>\n",
       "      <td>0.241085</td>\n",
       "    </tr>\n",
       "    <tr>\n",
       "      <th>Systematic Variance</th>\n",
       "      <td>0.032916</td>\n",
       "      <td>0.035337</td>\n",
       "      <td>0.093709</td>\n",
       "      <td>0.087715</td>\n",
       "    </tr>\n",
       "    <tr>\n",
       "      <th>Unique Variance</th>\n",
       "      <td>0.000000</td>\n",
       "      <td>0.095340</td>\n",
       "      <td>0.191103</td>\n",
       "      <td>0.153370</td>\n",
       "    </tr>\n",
       "    <tr>\n",
       "      <th>R-squared</th>\n",
       "      <td>1.000000</td>\n",
       "      <td>0.270414</td>\n",
       "      <td>0.329020</td>\n",
       "      <td>0.363835</td>\n",
       "    </tr>\n",
       "  </tbody>\n",
       "</table>\n",
       "</div>"
      ],
      "text/plain": [
       "                           ^SPX      INTC      AMD     NVDA\n",
       "Mean Annualized Return 0.133577 -0.003096 0.464646 0.761696\n",
       "Annualized Std Dev     0.181429  0.361492 0.533678 0.491004\n",
       "SPX Correlation        1.000000  0.520013 0.573602 0.603187\n",
       "Beta                   1.000000  1.036115 1.687269 1.632421\n",
       "Total Variance         0.032916  0.130677 0.284812 0.241085\n",
       "Systematic Variance    0.032916  0.035337 0.093709 0.087715\n",
       "Unique Variance        0.000000  0.095340 0.191103 0.153370\n",
       "R-squared              1.000000  0.270414 0.329020 0.363835"
      ]
     },
     "execution_count": 14,
     "metadata": {},
     "output_type": "execute_result"
    }
   ],
   "source": [
    "# Transpose the df\n",
    "stks_anl_results_T = perf_metrics.transpose()\n",
    "stks_anl_results_T"
   ]
  },
  {
   "cell_type": "code",
   "execution_count": null,
   "metadata": {},
   "outputs": [],
   "source": []
  }
 ],
 "metadata": {
  "kernelspec": {
   "display_name": "Python 3",
   "language": "python",
   "name": "python3"
  },
  "language_info": {
   "codemirror_mode": {
    "name": "ipython",
    "version": 3
   },
   "file_extension": ".py",
   "mimetype": "text/x-python",
   "name": "python",
   "nbconvert_exporter": "python",
   "pygments_lexer": "ipython3",
   "version": "3.10.13"
  }
 },
 "nbformat": 4,
 "nbformat_minor": 2
}
